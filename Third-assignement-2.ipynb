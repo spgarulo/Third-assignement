{
 "cells": [
  {
   "cell_type": "markdown",
   "metadata": {},
   "source": [
    "Survival function and life expectancy\n",
    "==============="
   ]
  },
  {
   "cell_type": "markdown",
   "metadata": {},
   "source": [
    "# Assignment 3"
   ]
  },
  {
   "cell_type": "markdown",
   "metadata": {},
   "source": [
    "Thomas Barks (964188), Sebastian Porras Garulo (853030) and Laura Farny (665536), April 6th, 2015.\n",
    "\n",
    "\n",
    "This notebook shows how a simple python model can be calibrated to analyze life expectancy at birth in the Netherlands. We used data from The World Bank’s website in order to compare the life expectancy of an average Dutch individual with the results the Weibull survival function estimates. This function is explained in David L. Wilson’s paper ‘The analysis of survival (mortality) data: Fitting Gompertz, Weibull and logistic functions’ (1994).\n",
    "\n",
    "### Question: \n",
    "Can we calibrate the Weibull survival function for the Netherlands? We would also like to know what is the probability of an average student living in the Netherlands living until 60 years from now?\n",
    "\n",
    "#### Motivation:\n",
    "As far as we know this has not been done for the Netherlands so it is interesting to see if the Weibull survival function actually works. Also, we would like to know our odds of being alive in 60 years from now if we stay in the Netherlands.\n",
    "\n",
    "#### Method:\n",
    "We have been able to find the Weibull survival function in David L. Wilson’s paper ‘The analysis of survival (mortality) data: Fitting Gompertz, Weibull and logistic functions’ (1994). Although it is about flies, we found another paper by Byung Mook Weon (2003) that claims that human survival curves could be described accurately by the Weibull survival function with the age-dependent shape parameter. We calibrate a model using the Weibull survival function using the life expectancy at birth in the Netherlands.\n",
    "\n",
    "#### Answer:\n",
    "Our conclusion is that we can calibrate the Weibull survival function. In addition we assume that the older a person gets the probability that this person lives 60 more years decreases.\n",
    "\n",
    "### Main assumptions:\n",
    "\n",
    "* We use the Weibull survival function explained in the paper by [Wilson (1994)](http://www.ncbi.nlm.nih.gov/pubmed/7934205)\n",
    "* We take the life expectancy for the Netherlands (81 years) from the [World Bank](http://data.worldbank.org/indicator/SP.DYN.LE00.IN)\n",
    "\n",
    "\n",
    "\n"
   ]
  },
  {
   "cell_type": "markdown",
   "metadata": {},
   "source": [
    "\n",
    "\n",
    "The life expectancy at birth is 81 years.\n",
    "\n",
    "We use the following survival function:\n",
    "\n",
    "$$\\LARGE S(t)=e^{(-(t/a)^{g})}  \\\\$$\n",
    "\n",
    "The function has many uses. Firstly, the integral of the function is the average life expectancy at birth accordingly to the theory of calculus. Secondly, the years when probability is 0.5 represents the median life time. This probability is equal to the intersection between the survival function and the corresponding cumulative distribution function. Therefore, if we know the real statistical values of the Netherlands for the avarage life expectancy at birth, we can calibrate the parameter with an optimization operation.\n"
   ]
  },
  {
   "cell_type": "markdown",
   "metadata": {},
   "source": [
    "### Importing libraries:"
   ]
  },
  {
   "cell_type": "code",
   "execution_count": 16,
   "metadata": {
    "collapsed": false,
    "scrolled": true
   },
   "outputs": [],
   "source": [
    "from __future__ import division\n",
    "from numpy import *\n",
    "from operator import *\n",
    "import matplotlib.pyplot as plt\n",
    "from scipy import optimize, arange\n",
    "from operator import add\n",
    "#from openopt import GLP\n",
    "from mpmath import findroot\n",
    "from scipy import integrate\n",
    "%matplotlib inline"
   ]
  },
  {
   "cell_type": "markdown",
   "metadata": {},
   "source": [
    "## Calibrating the parameter\n",
    "\n"
   ]
  },
  {
   "cell_type": "markdown",
   "metadata": {},
   "source": [
    "For calibrating the parameter $a$, we need to define value of parameter $g$ and an initial guess for $a$\n"
   ]
  },
  {
   "cell_type": "code",
   "execution_count": 124,
   "metadata": {
    "collapsed": false
   },
   "outputs": [],
   "source": [
    "#We have parameters a and g\n",
    "a0=90 #initial guess\n",
    "g0=11.24 #given value"
   ]
  },
  {
   "cell_type": "markdown",
   "metadata": {},
   "source": [
    "Then, we define a variable for Life Expectancy at birth for the Netherlands, which is 81 years. Also, we define the integer of survival function with parameter $a$ as a variable."
   ]
  },
  {
   "cell_type": "code",
   "execution_count": 125,
   "metadata": {
    "collapsed": false
   },
   "outputs": [],
   "source": [
    "LEB=81 #Life expectancy at born\n",
    "def survA(a):\n",
    "    return integrate.quad(lambda t:exp(-(t/a)**g0), 0, 200)"
   ]
  },
  {
   "cell_type": "markdown",
   "metadata": {},
   "source": [
    "Now, we can calibrate the model and look for the value of the parameter when Life Expectancy at birth is the same as Netherlands."
   ]
  },
  {
   "cell_type": "code",
   "execution_count": 131,
   "metadata": {
    "collapsed": false
   },
   "outputs": [
    {
     "name": "stdout",
     "output_type": "stream",
     "text": [
      "[ 84.73757092]\n"
     ]
    }
   ],
   "source": [
    "output = optimize.fsolve(lambda a: survA(a)[0]-LEB, a0)\n",
    "print output\n",
    "parameter_a=output"
   ]
  },
  {
   "cell_type": "markdown",
   "metadata": {},
   "source": [
    "## The survival function"
   ]
  },
  {
   "cell_type": "markdown",
   "metadata": {},
   "source": [
    "We find the value now for $a$, so we can now define the survival function with the real parameters and the Cumulative Distribution function. The intersection of both is the median life time of Dutch people."
   ]
  },
  {
   "cell_type": "code",
   "execution_count": 127,
   "metadata": {
    "collapsed": true
   },
   "outputs": [],
   "source": [
    "def survival(t):\n",
    "    return exp(-(t/parameter_a)**g0)\n",
    "\n",
    "def CDF(t):  # Cumulative distribution function: 1-Survival\n",
    "    return 1-survival(t)"
   ]
  },
  {
   "cell_type": "markdown",
   "metadata": {},
   "source": [
    "So lets graph the functions to have an idea of where should this intersection be."
   ]
  },
  {
   "cell_type": "code",
   "execution_count": 128,
   "metadata": {
    "collapsed": false
   },
   "outputs": [
    {
     "data": {
      "image/png": "[encoded data removed]",
      "text/plain": [
       "<matplotlib.figure.Figure at 0xa46e400>"
      ]
     },
     "metadata": {},
     "output_type": "display_data"
    }
   ],
   "source": [
    "range_t = arange(0.0,101,1.0)\n",
    "\n",
    "\n",
    "plt.clf()\n",
    "plt.plot(range_t, survival(range_t),'-', color = 'b', linewidth = 2)\n",
    "plt.plot(range_t, CDF(range_t),'-', color = 'y', linewidth = 2)\n",
    "plt.title(\"Survival function\",fontsize = 15)\n",
    "plt.xlabel(\"time\",fontsize = 15)\n",
    "plt.ylabel(\"Probability of surviving\",fontsize = 15,rotation = 90)\n",
    "plt.ylim(0.0,1.2)\n",
    "plt.xlim(0.0,102)\n",
    "\n",
    "plt.annotate('$S(t)$', xy=(70,survival(70)),  xycoords='data',\n",
    "              xytext=(20, 30), textcoords='offset points', size = 20,\n",
    "              arrowprops=dict(arrowstyle=\"->\", linewidth = 2,\n",
    "                              connectionstyle=\"arc3,rad=-0.4\"),\n",
    "              )\n",
    "plt.annotate('$CDF(t)$', xy=(70,CDF(70)),  xycoords='data',\n",
    "              xytext=(-60, 30), textcoords='offset points', size = 20,\n",
    "              arrowprops=dict(arrowstyle=\"->\", linewidth = 2,\n",
    "                              connectionstyle=\"arc3,rad=0.4\"),\n",
    "              )\n",
    "\n",
    "plt.savefig('Survival function.png')"
   ]
  },
  {
   "cell_type": "markdown",
   "metadata": {},
   "source": [
    "Now lets calculate value of $t$ at the intersection:"
   ]
  },
  {
   "cell_type": "code",
   "execution_count": 129,
   "metadata": {
    "collapsed": false
   },
   "outputs": [
    {
     "name": "stdout",
     "output_type": "stream",
     "text": [
      "[ 82.01901976]\n"
     ]
    }
   ],
   "source": [
    "output = optimize.fsolve(lambda t: survival(t)-CDF(t), 80)\n",
    "print output\n",
    "MedLife=output # this is the median life time "
   ]
  },
  {
   "cell_type": "markdown",
   "metadata": {},
   "source": [
    "Therefore, the Median Life Time in Netherlands is 82 years old.\n",
    "\n",
    "Let's look where it is in the graph and see if it's in the correct place:"
   ]
  },
  {
   "cell_type": "code",
   "execution_count": 130,
   "metadata": {
    "collapsed": false
   },
   "outputs": [
    {
     "data": {
      "image/png": "[encoded data removed]",
      "text/plain": [
       "<matplotlib.figure.Figure at 0xa710d30>"
      ]
     },
     "metadata": {},
     "output_type": "display_data"
    }
   ],
   "source": [
    "range_t = arange(0.0,101,1.0)\n",
    "\n",
    "\n",
    "plt.clf()\n",
    "plt.plot(range_t, survival(range_t),'-', color = 'b', linewidth = 2)\n",
    "plt.plot(range_t, CDF(range_t),'-', color = 'y', linewidth = 2)\n",
    "plt.title(\"Survival function\",fontsize = 15)\n",
    "plt.xlabel(\"time\",fontsize = 15)\n",
    "plt.ylabel(\"Probability of surviving\",fontsize = 15,rotation = 90)\n",
    "plt.ylim(0.0,1.2)\n",
    "plt.xlim(0.0,102)\n",
    "\n",
    "plt.annotate('$S(t)$', xy=(70,survival(70)),  xycoords='data',\n",
    "              xytext=(-30, 30), textcoords='offset points', size = 20,\n",
    "              arrowprops=dict(arrowstyle=\"->\", linewidth = 2,\n",
    "                              connectionstyle=\"arc3,rad=-0.4\"),\n",
    "              )\n",
    "plt.annotate('$CDF(t)$', xy=(70,CDF(70)),  xycoords='data',\n",
    "              xytext=(-60, 30), textcoords='offset points', size = 20,\n",
    "              arrowprops=dict(arrowstyle=\"->\", linewidth = 2,\n",
    "                              connectionstyle=\"arc3,rad=0.4\"),\n",
    "              )\n",
    "plt.annotate('', xy=(MedLife,0),  xycoords='data',\n",
    "              xytext=(0, 190), textcoords='offset points', size = 20,\n",
    "              arrowprops=dict(arrowstyle=\"-\", linewidth = 1,\n",
    "                              connectionstyle=\"arc3,rad=0\"),\n",
    "              )\n",
    "plt.annotate(MedLife, xy=(MedLife,0),  xycoords='data',\n",
    "              xytext=(-10, 195), textcoords='offset points', size = 10,\n",
    "              )\n",
    "\n",
    "plt.savefig('Survival function.png')"
   ]
  },
  {
   "cell_type": "markdown",
   "metadata": {},
   "source": [
    "So, just to be sure, let's look for the Life expectancy at birth in the graph. This is the area under the survival function."
   ]
  },
  {
   "cell_type": "code",
   "execution_count": 111,
   "metadata": {
    "collapsed": false
   },
   "outputs": [
    {
     "data": {
      "text/plain": [
       "<matplotlib.collections.PolyCollection at 0x9d2f7b8>"
      ]
     },
     "execution_count": 111,
     "metadata": {},
     "output_type": "execute_result"
    },
    {
     "data": {
      "image/png": "[encoded data removed]",
      "text/plain": [
       "<matplotlib.figure.Figure at 0xa9a4be0>"
      ]
     },
     "metadata": {},
     "output_type": "display_data"
    }
   ],
   "source": [
    "plt.clf()\n",
    "plt.plot(range_t, survival(range_t),'-', color = 'b', linewidth = 2)\n",
    "plt.title(\"Survival function\",fontsize = 15)\n",
    "plt.xlabel(\"time\",fontsize = 15)\n",
    "plt.ylabel(\"Probability of surviving\",fontsize = 15,rotation = 90)\n",
    "plt.ylim(0.0,1.2)\n",
    "plt.xlim(0.0,102)\n",
    "\n",
    "plt.annotate('$S(t)$', xy=(70,survival(70)),  xycoords='data',\n",
    "              xytext=(20, 30), textcoords='offset points', size = 20,\n",
    "              arrowprops=dict(arrowstyle=\"->\", linewidth = 2,\n",
    "                              connectionstyle=\"arc3,rad=-0.4\"),\n",
    "              )\n",
    "plt.annotate('Life expectancy', xy=(10,.5),  xycoords='data',\n",
    "              xytext=(20, 30), textcoords='offset points', size = 20,\n",
    "              )\n",
    "plt.annotate('at birth', xy=(10,.35),  xycoords='data',\n",
    "              xytext=(20, 30), textcoords='offset points', size = 20,\n",
    "              )\n",
    "plt.fill_between(range_t, 0, survival(range_t), facecolor='r')"
   ]
  },
  {
   "cell_type": "markdown",
   "metadata": {},
   "source": [
    "This is, as defined, the integral of the survival funtion, which is equal to the Life Expectancy at birth."
   ]
  },
  {
   "cell_type": "code",
   "execution_count": 112,
   "metadata": {
    "collapsed": false
   },
   "outputs": [
    {
     "name": "stdout",
     "output_type": "stream",
     "text": [
      "81.0\n"
     ]
    }
   ],
   "source": [
    "LEB0=integrate.quad(lambda t:survival(t), 0, 200)\n",
    "print LEB0[0]"
   ]
  },
  {
   "cell_type": "markdown",
   "metadata": {},
   "source": [
    "## Using the survival function"
   ]
  },
  {
   "cell_type": "markdown",
   "metadata": {},
   "source": [
    "Now we calculate the probability of Tom, age 22, being alive 60 years from now:\n",
    "\n",
    "$$P(TomAliveAt82)=P(t>82 | t>22) = P(82>t) / P(t>22) = S(82) / S(22)$$"
   ]
  },
  {
   "cell_type": "code",
   "execution_count": 120,
   "metadata": {
    "collapsed": false
   },
   "outputs": [
    {
     "name": "stdout",
     "output_type": "stream",
     "text": [
      "[ 0.50090322]\n"
     ]
    }
   ],
   "source": [
    "print survival(82)/survival(22)"
   ]
  },
  {
   "cell_type": "markdown",
   "metadata": {},
   "source": [
    "Now we calculate the probability of Laura, age 25, being alive 60 years from now:\n",
    "\n",
    "\n",
    "$$P(LauraAliveAt85)=P(t>85|t>25)=P(85>t)/P(t>25)=S(85)/S(25)$$"
   ]
  },
  {
   "cell_type": "code",
   "execution_count": 132,
   "metadata": {
    "collapsed": false
   },
   "outputs": [
    {
     "name": "stdout",
     "output_type": "stream",
     "text": [
      "[ 0.35509639]\n"
     ]
    }
   ],
   "source": [
    "print survival(85)/survival(25)"
   ]
  },
  {
   "cell_type": "markdown",
   "metadata": {},
   "source": [
    "Now we calculate the probability of Sebastian, age 26, being alive 60 years from now:\n",
    "\n",
    "$$P(SebastianAliveAt86)=P(t>86|t>26)=P(86>t)/P(t>26)=S(86)/S(26)$$"
   ]
  },
  {
   "cell_type": "code",
   "execution_count": 123,
   "metadata": {
    "collapsed": false
   },
   "outputs": [
    {
     "name": "stdout",
     "output_type": "stream",
     "text": [
      "[ 0.30702361]\n"
     ]
    }
   ],
   "source": [
    "print survival(86)/survival(26)"
   ]
  },
  {
   "cell_type": "markdown",
   "metadata": {},
   "source": [
    "### Conclusion\n",
    "To conclude, we have calibrated the Weibull survival function for the Netherlands. Furthermore, we have used the model to calculate the probabilities of survival 60 years from now for ages 22, 25 and 26. We find that with higher age comes a lower probability, which is intuitive. This shows that the model is a good estimator."
   ]
  }
 ],
 "metadata": {
  "kernelspec": {
   "display_name": "Python 2",
   "language": "python",
   "name": "python2"
  },
  "language_info": {
   "codemirror_mode": {
    "name": "ipython",
    "version": 2
   },
   "file_extension": ".py",
   "mimetype": "text/x-python",
   "name": "python",
   "nbconvert_exporter": "python",
   "pygments_lexer": "ipython2",
   "version": "2.7.11"
  }
 },
 "nbformat": 4,
 "nbformat_minor": 0
}
